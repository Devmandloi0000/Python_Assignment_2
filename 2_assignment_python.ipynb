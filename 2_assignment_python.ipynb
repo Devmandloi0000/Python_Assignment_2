{
 "cells": [
  {
   "cell_type": "markdown",
   "id": "d9eaa5af",
   "metadata": {},
   "source": [
    "# 2nd_Assignment_for_Python "
   ]
  },
  {
   "cell_type": "markdown",
   "id": "79b0e99c",
   "metadata": {},
   "source": [
    "## QUE(1) "
   ]
  },
  {
   "cell_type": "code",
   "execution_count": null,
   "id": "2c5d4e4d",
   "metadata": {},
   "outputs": [],
   "source": [
    "que(1)\n",
    "1.What are the two values of the Boolean data type? How do you write them?\n",
    "\n",
    "solution :- \n",
    "1). True = 1\n",
    "2). False = 0"
   ]
  },
  {
   "cell_type": "markdown",
   "id": "0d19ceb3",
   "metadata": {},
   "source": [
    "##  QUE(2)"
   ]
  },
  {
   "cell_type": "code",
   "execution_count": null,
   "id": "3dd1dc58",
   "metadata": {},
   "outputs": [],
   "source": [
    "que(2)\n",
    "2. What are the three different types of Boolean operators?\n",
    "\n",
    "solution .\n",
    "1) and\n",
    "2) not\n",
    "3) or"
   ]
  },
  {
   "cell_type": "markdown",
   "id": "179293cc",
   "metadata": {},
   "source": [
    "## QUE(3) "
   ]
  },
  {
   "cell_type": "code",
   "execution_count": null,
   "id": "2f3d0082",
   "metadata": {},
   "outputs": [],
   "source": [
    "que(3)\n",
    "3. Make a list of each Boolean operator's truth tables (i.e. every possible combination of Boolean values for the operator and what it evaluate ).\n",
    "\n",
    "\n",
    "> and operator \n",
    "True  | False | False\n",
    "False | True  | False\n",
    "True  | True  | True\n",
    "False | False | False\n",
    "\n",
    "> or operator\n",
    "True  | True  | True\n",
    "True  | False | True\n",
    "False | True  | True\n",
    "False | False | False\n",
    "\n",
    "> not operator\n",
    "True  | False\n",
    "False | True"
   ]
  },
  {
   "cell_type": "markdown",
   "id": "682849fc",
   "metadata": {},
   "source": [
    "## QUE(4)"
   ]
  },
  {
   "cell_type": "code",
   "execution_count": null,
   "id": "2cdfd605",
   "metadata": {},
   "outputs": [],
   "source": [
    "que(4)\n",
    "4. What are the values of the following expressions?\n",
    "(5 > 4) and (3 == 5)\n",
    "not (5 > 4)\n",
    "(5 > 4) or (3 == 5)\n",
    "not ((5 > 4) or (3 == 5))\n",
    "(True and True) and (True == False)\n",
    "(not False) or (not True)\n"
   ]
  },
  {
   "cell_type": "code",
   "execution_count": 7,
   "id": "a772d196",
   "metadata": {},
   "outputs": [
    {
     "data": {
      "text/plain": [
       "False"
      ]
     },
     "execution_count": 7,
     "metadata": {},
     "output_type": "execute_result"
    }
   ],
   "source": [
    "(5 > 4) and (3 == 5)\n",
    "\n",
    "# 0"
   ]
  },
  {
   "cell_type": "code",
   "execution_count": 8,
   "id": "9f53bed8",
   "metadata": {},
   "outputs": [
    {
     "data": {
      "text/plain": [
       "False"
      ]
     },
     "execution_count": 8,
     "metadata": {},
     "output_type": "execute_result"
    }
   ],
   "source": [
    "not (5 > 4)\n",
    "\n",
    "# 0"
   ]
  },
  {
   "cell_type": "code",
   "execution_count": 9,
   "id": "f23490d0",
   "metadata": {},
   "outputs": [
    {
     "data": {
      "text/plain": [
       "True"
      ]
     },
     "execution_count": 9,
     "metadata": {},
     "output_type": "execute_result"
    }
   ],
   "source": [
    "(5 > 4) or (3 == 5)\n",
    "\n",
    "# 1"
   ]
  },
  {
   "cell_type": "code",
   "execution_count": 10,
   "id": "7d2ca4e2",
   "metadata": {},
   "outputs": [
    {
     "data": {
      "text/plain": [
       "False"
      ]
     },
     "execution_count": 10,
     "metadata": {},
     "output_type": "execute_result"
    }
   ],
   "source": [
    "not ((5 > 4) or (3 == 5))\n",
    "\n",
    "# 0"
   ]
  },
  {
   "cell_type": "code",
   "execution_count": 11,
   "id": "62825aaa",
   "metadata": {},
   "outputs": [
    {
     "data": {
      "text/plain": [
       "False"
      ]
     },
     "execution_count": 11,
     "metadata": {},
     "output_type": "execute_result"
    }
   ],
   "source": [
    "(True and True) and (True == False)\n",
    "\n",
    "# 0"
   ]
  },
  {
   "cell_type": "code",
   "execution_count": 12,
   "id": "9b876c39",
   "metadata": {},
   "outputs": [
    {
     "data": {
      "text/plain": [
       "True"
      ]
     },
     "execution_count": 12,
     "metadata": {},
     "output_type": "execute_result"
    }
   ],
   "source": [
    "(not False) or (not True)\n",
    "\n",
    "# 1"
   ]
  },
  {
   "cell_type": "markdown",
   "id": "26874fb4",
   "metadata": {},
   "source": [
    "## QUE(5)"
   ]
  },
  {
   "cell_type": "code",
   "execution_count": null,
   "id": "9ae5f9b6",
   "metadata": {},
   "outputs": [],
   "source": [
    "que(5)\n",
    "5. What are the six comparison operators?\n",
    "\n",
    "# solution :- \n",
    "1). >=  (Greter than equal to)\n",
    "2). <=  (lower than equal to)\n",
    "3). ==  (equal to)\n",
    "4). !=  (not equal to)\n",
    "5). >   (greater than)\n",
    "6). <   (lower than)"
   ]
  },
  {
   "cell_type": "markdown",
   "id": "e4b9b72e",
   "metadata": {},
   "source": [
    "## QUE(6)"
   ]
  },
  {
   "cell_type": "code",
   "execution_count": 10,
   "id": "392cc59a",
   "metadata": {},
   "outputs": [],
   "source": [
    "# que(6)\n",
    "# 6. How do you tell the difference between the equal to and assignment operators?Describe a condition and when you would use one.\n",
    "\n",
    "\n",
    "a = 10  # assignment operator"
   ]
  },
  {
   "cell_type": "code",
   "execution_count": 11,
   "id": "43cfcc05",
   "metadata": {},
   "outputs": [
    {
     "name": "stdout",
     "output_type": "stream",
     "text": [
      "10 and 20 are not equal\n"
     ]
    }
   ],
   "source": [
    "x = 10\n",
    "y = 20\n",
    "\n",
    "if x == y: # comparison operator \n",
    "    print(f'{x} and {y} both are equal')\n",
    "elif x != y: # comparison operator\n",
    "    print(f\"{x} and {y} are not equal\")"
   ]
  },
  {
   "cell_type": "markdown",
   "id": "496c7669",
   "metadata": {},
   "source": [
    "## QUE(7)"
   ]
  },
  {
   "cell_type": "code",
   "execution_count": 31,
   "id": "5d292a44",
   "metadata": {},
   "outputs": [
    {
     "name": "stdout",
     "output_type": "stream",
     "text": [
      "ham\n",
      "spam\n",
      "spam\n"
     ]
    }
   ],
   "source": [
    "# que(7)\n",
    "# 7. Identify the three blocks in this code:\n",
    "spam = 0\n",
    "if spam == 10:      #/block first\n",
    "    print('eggs')\n",
    "if spam > 5:        #/ block second\n",
    "    print('bacon')\n",
    "else:               #/ block third\n",
    "    print('ham')\n",
    "    print('spam')\n",
    "    print('spam')\n"
   ]
  },
  {
   "cell_type": "markdown",
   "id": "db870430",
   "metadata": {},
   "source": [
    "## QUE(8)"
   ]
  },
  {
   "cell_type": "code",
   "execution_count": 13,
   "id": "4719a0f9",
   "metadata": {},
   "outputs": [
    {
     "name": "stdout",
     "output_type": "stream",
     "text": [
      "enter any number eg. 1,2 and 3 : 2\n",
      "Howdy : 2\n"
     ]
    }
   ],
   "source": [
    "# que(8)\n",
    "# 8. Write code that prints Hello if 1 is stored in spam, prints Howdy if 2 is stored in spam, and prints Greetings! if anything else is stored in spam.\n",
    "\n",
    "\n",
    "spam = int(input('enter any number eg. 1,2 and 3 : '))\n",
    "\n",
    "if spam == 1:\n",
    "    print(f'Hello : {spam}')\n",
    "elif spam == 2:\n",
    "    print(f'Howdy : {spam}')\n",
    "else:\n",
    "    print(f'Greetings! : {spam}')"
   ]
  },
  {
   "cell_type": "markdown",
   "id": "f3cb9475",
   "metadata": {},
   "source": [
    "## QUE(9)"
   ]
  },
  {
   "cell_type": "code",
   "execution_count": null,
   "id": "f1fdea70",
   "metadata": {},
   "outputs": [],
   "source": [
    "que(9)\n",
    "9.If your programme is stuck in an endless loop, what keys you’ll press?\n",
    "\n",
    "solution :- \n",
    "    \n",
    "    Ctrl + C   \n",
    "is used for endless loop "
   ]
  },
  {
   "cell_type": "markdown",
   "id": "5dabe80a",
   "metadata": {},
   "source": [
    "## QUE(10)"
   ]
  },
  {
   "cell_type": "code",
   "execution_count": 21,
   "id": "a425986b",
   "metadata": {},
   "outputs": [
    {
     "name": "stdout",
     "output_type": "stream",
     "text": [
      "not contain 2\n",
      "not contain 3\n",
      "this contain 4\n"
     ]
    }
   ],
   "source": [
    "# que(10)\n",
    "# 10. How can you tell the difference between break and continue?\n",
    "\n",
    "a = [1,2,3,4,5,6]\n",
    "\n",
    "for i in a:\n",
    "#    print(i)\n",
    "    if i == 3:\n",
    "        print(f\"this contain {a[i]}\")\n",
    "        break\n",
    "    else:\n",
    "        print(f'not contain {a[i]}')\n",
    "        \n",
    "# in break statement stop the loop when condition is satisfied"
   ]
  },
  {
   "cell_type": "code",
   "execution_count": 22,
   "id": "07c6e2f3",
   "metadata": {},
   "outputs": [
    {
     "name": "stdout",
     "output_type": "stream",
     "text": [
      "not contain 1\n",
      "not contain 2\n",
      "3 is in this list 3\n",
      "not contain 4\n",
      "not contain 5\n",
      "not contain 6\n"
     ]
    }
   ],
   "source": [
    "a = [1,2,3,4,5,6]\n",
    "\n",
    "for i in a:\n",
    "#    print(i)\n",
    "    if i == 3:\n",
    "        print(f\"3 is in this list {i}\")\n",
    "        continue\n",
    "    else:\n",
    "        print(f'not contain {i}')\n",
    "# in continue statement loop works until the total length of the list or other datatype"
   ]
  },
  {
   "cell_type": "markdown",
   "id": "176ad495",
   "metadata": {},
   "source": [
    "## QUE(11)"
   ]
  },
  {
   "cell_type": "code",
   "execution_count": null,
   "id": "05fa93d9",
   "metadata": {},
   "outputs": [],
   "source": [
    "que(11)\n",
    "11. In a for loop, what is the difference between range(10), range(0, 10), and range(0, 10, 1)?\n",
    "\n",
    "solution :-\n",
    "(a)    range(10) :- python always starts a initial range from 0 ,its default set by python\n",
    "(b)    range(0,10) :- starting range given from 0 to 10 , same as range(10) ,(start, end) start and end point are given     (c)    range(0,10,1) :- python always takes a steps of 1 ,(start,end,step) all this conditions are given\n",
    "        \n",
    "this all 3 condition gives the same output "
   ]
  },
  {
   "cell_type": "code",
   "execution_count": 27,
   "id": "5548390b",
   "metadata": {},
   "outputs": [
    {
     "name": "stdout",
     "output_type": "stream",
     "text": [
      "0\n",
      "1\n",
      "2\n",
      "3\n",
      "4\n",
      "5\n",
      "6\n",
      "7\n",
      "8\n",
      "9\n"
     ]
    }
   ],
   "source": [
    "#(A)\n",
    "for i in range(10):\n",
    "    print(i)"
   ]
  },
  {
   "cell_type": "code",
   "execution_count": 28,
   "id": "22963fce",
   "metadata": {},
   "outputs": [
    {
     "name": "stdout",
     "output_type": "stream",
     "text": [
      "0\n",
      "1\n",
      "2\n",
      "3\n",
      "4\n",
      "5\n",
      "6\n",
      "7\n",
      "8\n",
      "9\n"
     ]
    }
   ],
   "source": [
    "#(B)\n",
    "for i in range(0,10):\n",
    "    print(i)"
   ]
  },
  {
   "cell_type": "code",
   "execution_count": 29,
   "id": "2f74301a",
   "metadata": {},
   "outputs": [
    {
     "name": "stdout",
     "output_type": "stream",
     "text": [
      "0\n",
      "1\n",
      "2\n",
      "3\n",
      "4\n",
      "5\n",
      "6\n",
      "7\n",
      "8\n",
      "9\n"
     ]
    }
   ],
   "source": [
    "# (C)\n",
    "for i in range(0,10,1):\n",
    "    print(i)"
   ]
  },
  {
   "cell_type": "markdown",
   "id": "bd192887",
   "metadata": {},
   "source": [
    "## QUE(12)"
   ]
  },
  {
   "cell_type": "code",
   "execution_count": 38,
   "id": "ea2c4724",
   "metadata": {},
   "outputs": [
    {
     "name": "stdout",
     "output_type": "stream",
     "text": [
      "[1, 2, 3, 4, 5, 6, 7, 8, 9, 10]\n"
     ]
    }
   ],
   "source": [
    "# que(12)\n",
    "# 12. Write a short program that prints the numbers 1 to 10 using a for loop. Then write an equivalent program that prints the numbers 1 to 10 using a while loop.\n",
    "\n",
    "l1 = list()\n",
    "for i in range(1,11):\n",
    "#    print(i)\n",
    "    l1.append(i)\n",
    "print(l1)"
   ]
  },
  {
   "cell_type": "code",
   "execution_count": 35,
   "id": "3abaa2dc",
   "metadata": {},
   "outputs": [
    {
     "name": "stdout",
     "output_type": "stream",
     "text": [
      "[1, 2, 3, 4, 5, 6, 7, 8, 9, 10]\n"
     ]
    }
   ],
   "source": [
    "a = 1\n",
    "l1 = list()\n",
    "while a in range(0,11):\n",
    "#    print(a)\n",
    "    l1.append(a)\n",
    "    a = a + 1\n",
    "print(l1)\n",
    "    \n",
    "    "
   ]
  },
  {
   "cell_type": "markdown",
   "id": "f75070cc",
   "metadata": {},
   "source": [
    "## QUE(13)"
   ]
  },
  {
   "cell_type": "code",
   "execution_count": 47,
   "id": "c90a9fe9",
   "metadata": {},
   "outputs": [],
   "source": [
    "# que(13)\n",
    "# 13. If you had a function named bacon() inside a module named spam, how would you call it after importing spam?\n",
    "\n",
    "l = [1,2,3,4,5,6,7]\n",
    "\n",
    "def bacon(func):\n",
    "    def spam():\n",
    "        func()\n",
    "        print(func())\n",
    "    return spam\n"
   ]
  },
  {
   "cell_type": "code",
   "execution_count": 48,
   "id": "a4eb69a9",
   "metadata": {},
   "outputs": [
    {
     "data": {
      "text/plain": [
       "<function __main__.bacon.<locals>.spam()>"
      ]
     },
     "execution_count": 48,
     "metadata": {},
     "output_type": "execute_result"
    }
   ],
   "source": [
    "bacon(l)"
   ]
  },
  {
   "cell_type": "code",
   "execution_count": null,
   "id": "bbaa65dd",
   "metadata": {},
   "outputs": [],
   "source": []
  }
 ],
 "metadata": {
  "kernelspec": {
   "display_name": "Python 3 (ipykernel)",
   "language": "python",
   "name": "python3"
  },
  "language_info": {
   "codemirror_mode": {
    "name": "ipython",
    "version": 3
   },
   "file_extension": ".py",
   "mimetype": "text/x-python",
   "name": "python",
   "nbconvert_exporter": "python",
   "pygments_lexer": "ipython3",
   "version": "3.9.12"
  }
 },
 "nbformat": 4,
 "nbformat_minor": 5
}
